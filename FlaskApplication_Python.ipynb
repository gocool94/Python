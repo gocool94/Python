{
 "cells": [
  {
   "cell_type": "code",
   "execution_count": 1,
   "id": "f6d21305",
   "metadata": {},
   "outputs": [
    {
     "data": {
      "text/plain": [
       "'\\npython -m venv myvirtualenvironment\\n#pythonversion \\n\\n'"
      ]
     },
     "execution_count": 1,
     "metadata": {},
     "output_type": "execute_result"
    }
   ],
   "source": [
    "#initital setup of the flask project\n",
    "\"\"\"\n",
    "python -m venv myvirtualenvironment\n",
    "#pythonversion -m venv #virtual environment name\n",
    "\n",
    "\"\"\""
   ]
  },
  {
   "cell_type": "code",
   "execution_count": null,
   "id": "c058b4f5",
   "metadata": {},
   "outputs": [],
   "source": []
  }
 ],
 "metadata": {
  "kernelspec": {
   "display_name": "Python 3 (ipykernel)",
   "language": "python",
   "name": "python3"
  },
  "language_info": {
   "codemirror_mode": {
    "name": "ipython",
    "version": 3
   },
   "file_extension": ".py",
   "mimetype": "text/x-python",
   "name": "python",
   "nbconvert_exporter": "python",
   "pygments_lexer": "ipython3",
   "version": "3.9.13"
  }
 },
 "nbformat": 4,
 "nbformat_minor": 5
}
