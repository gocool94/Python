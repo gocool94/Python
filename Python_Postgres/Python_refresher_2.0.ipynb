{
 "cells": [
  {
   "cell_type": "code",
   "execution_count": 1,
   "id": "d3121923",
   "metadata": {},
   "outputs": [],
   "source": [
    "#variables\n",
    "\n",
    "\n",
    "a = 10\n",
    "b=20\n",
    "c = 3.4"
   ]
  },
  {
   "cell_type": "code",
   "execution_count": 7,
   "id": "9631aa99",
   "metadata": {},
   "outputs": [
    {
     "name": "stdout",
     "output_type": "stream",
     "text": [
      "Gokul\n"
     ]
    }
   ],
   "source": [
    "#String formatting\n",
    "\n",
    "name = \"Gokul\"\n",
    "\n",
    "Lname = \"Kalivarathan\"\n",
    "\n",
    "gretting = \"{}\".format(name)\n",
    "\n",
    "print(gretting)"
   ]
  },
  {
   "cell_type": "code",
   "execution_count": 9,
   "id": "5a651c98",
   "metadata": {},
   "outputs": [],
   "source": [
    "welcome = \"Hi. My name is {} and age is {}\".format(\"Gokul\",29)"
   ]
  },
  {
   "cell_type": "code",
   "execution_count": 11,
   "id": "f5b98282",
   "metadata": {},
   "outputs": [
    {
     "name": "stdout",
     "output_type": "stream",
     "text": [
      "Enter the name =Gokul\n",
      "Enter your age :29\n",
      "Gokul has lived 10585 days in entire life\n"
     ]
    }
   ],
   "source": [
    "#Getting user input\n",
    "\n",
    "name = input(\"Enter the name =\")\n",
    "#print(name)\n",
    "\n",
    "#the input will always be the string\n",
    "\n",
    "age = int(input(\"Enter your age :\")) * 365\n",
    "\n",
    "print(\"{} has lived {} days in entire life\".format(name,age))"
   ]
  },
  {
   "cell_type": "code",
   "execution_count": 21,
   "id": "cff9214b",
   "metadata": {},
   "outputs": [],
   "source": [
    "l = [\"G\",\"D\",\"E\"]\n",
    "t = (1,2,3,4)\n",
    "s = {1,2,3,4,1,2,3,4}  # there can be no duplicate in the set\n",
    "l.append(\"F\")\n",
    "# t.append(\"<\") - 'tuple' object has no attribute 'append'\n",
    "\n",
    "#t[1]=2  - 'tuple' object does not support item assignment"
   ]
  },
  {
   "cell_type": "code",
   "execution_count": 22,
   "id": "5e3ec4a2",
   "metadata": {},
   "outputs": [
    {
     "name": "stdout",
     "output_type": "stream",
     "text": [
      "{1, 2, 3, 4}\n"
     ]
    }
   ],
   "source": [
    "print(s)"
   ]
  },
  {
   "cell_type": "code",
   "execution_count": 23,
   "id": "c60e9080",
   "metadata": {},
   "outputs": [
    {
     "data": {
      "text/plain": [
       "{1, 2, 3, 5, 6, 7}"
      ]
     },
     "execution_count": 23,
     "metadata": {},
     "output_type": "execute_result"
    }
   ],
   "source": [
    "n1 = {1,2,3}\n",
    "n2 = {5,6,7}\n",
    "\n",
    "n1.union(n2)"
   ]
  },
  {
   "cell_type": "code",
   "execution_count": 26,
   "id": "37b6bc80",
   "metadata": {},
   "outputs": [
    {
     "name": "stdout",
     "output_type": "stream",
     "text": [
      "True\n",
      "False\n"
     ]
    }
   ],
   "source": [
    "#booleans\n",
    "\n",
    "True\n",
    "False\n",
    "\n",
    "print(5==5)\n",
    "print(6!=6)\n",
    "\n",
    "#comparisons\n",
    "\n",
    "== , !=, >,<,>=,<=\n",
    "\n",
    "is -> compares the memory\n",
    "\n",
    "\n"
   ]
  },
  {
   "cell_type": "code",
   "execution_count": 27,
   "id": "cf7e265d",
   "metadata": {},
   "outputs": [
    {
     "data": {
      "text/plain": [
       "True"
      ]
     },
     "execution_count": 27,
     "metadata": {},
     "output_type": "execute_result"
    }
   ],
   "source": [
    "\"g\" in [\"g\",\"o\",\"p\"]"
   ]
  },
  {
   "cell_type": "code",
   "execution_count": 28,
   "id": "dfdaabac",
   "metadata": {},
   "outputs": [
    {
     "name": "stdout",
     "output_type": "stream",
     "text": [
      "Gety\n",
      "yes\n"
     ]
    }
   ],
   "source": [
    "user_input = input(\"Get\")\n",
    "if user_input in (\"y\",\"Y\"):\n",
    "    print(\"yes\")"
   ]
  },
  {
   "cell_type": "code",
   "execution_count": 32,
   "id": "8f948ba2",
   "metadata": {},
   "outputs": [
    {
     "name": "stdout",
     "output_type": "stream",
     "text": [
      "10\n",
      "9\n",
      "8\n",
      "7\n",
      "6\n",
      "5\n"
     ]
    }
   ],
   "source": [
    "for i in range(10,4,-1):\n",
    "    print(i)"
   ]
  },
  {
   "cell_type": "code",
   "execution_count": 33,
   "id": "a9f9c3a1",
   "metadata": {},
   "outputs": [],
   "source": [
    "numbers = [1,2,3,4,5]\n",
    "\n",
    "doubleed = [ i * i for i in numbers]"
   ]
  },
  {
   "cell_type": "code",
   "execution_count": 34,
   "id": "f1943b11",
   "metadata": {},
   "outputs": [
    {
     "name": "stdout",
     "output_type": "stream",
     "text": [
      "[1, 4, 9, 16, 25]\n"
     ]
    }
   ],
   "source": [
    "print(doubleed)"
   ]
  },
  {
   "cell_type": "code",
   "execution_count": 37,
   "id": "e1ad51f8",
   "metadata": {},
   "outputs": [
    {
     "name": "stdout",
     "output_type": "stream",
     "text": [
      "['ssss', 'sssq', 'sss']\n",
      "['ssss', 'sssq', 'sss']\n",
      "['ssss', 'sssq', 'sss']\n"
     ]
    }
   ],
   "source": [
    "word = [\"ssss\",\"sssq\",\"sss\"]\n",
    "\n",
    "for i in s:\n",
    "    if i.startswith(\"s\"):\n",
    "        print(s)"
   ]
  },
  {
   "cell_type": "code",
   "execution_count": 38,
   "id": "0b77d779",
   "metadata": {},
   "outputs": [
    {
     "data": {
      "text/plain": [
       "['ssss', 'sssq', 'sss']"
      ]
     },
     "execution_count": 38,
     "metadata": {},
     "output_type": "execute_result"
    }
   ],
   "source": [
    "[character for character in word if character.startswith(\"s\")]"
   ]
  },
  {
   "cell_type": "code",
   "execution_count": 46,
   "id": "0c3a84ea",
   "metadata": {},
   "outputs": [],
   "source": [
    "#dictionaries\n",
    "\n",
    "\n",
    "m1 = [{\"Name\":\"Gokul\",\"Age\":29,\"Primary Skill\":\"Python\",\"Secondary Skill\":\"JAVA\"}]"
   ]
  },
  {
   "cell_type": "code",
   "execution_count": 48,
   "id": "c7da4c3d",
   "metadata": {},
   "outputs": [
    {
     "data": {
      "text/plain": [
       "'Python'"
      ]
     },
     "execution_count": 48,
     "metadata": {},
     "output_type": "execute_result"
    }
   ],
   "source": [
    "m1[0].get(\"Primary Skill\")"
   ]
  },
  {
   "cell_type": "code",
   "execution_count": 45,
   "id": "9faa9643",
   "metadata": {},
   "outputs": [
    {
     "name": "stdout",
     "output_type": "stream",
     "text": [
      "Gokul\n",
      "29\n",
      "Python\n",
      "JAVA\n"
     ]
    }
   ],
   "source": [
    "for i in m1:\n",
    "    print(m1.get(i))"
   ]
  },
  {
   "cell_type": "code",
   "execution_count": 50,
   "id": "18cdfc6b",
   "metadata": {},
   "outputs": [
    {
     "name": "stdout",
     "output_type": "stream",
     "text": [
      "Gokul\n",
      "43\n",
      "Dharani\n",
      "33\n",
      "Preetham\n",
      "45\n",
      "DDDDDD\n",
      "33\n"
     ]
    }
   ],
   "source": [
    "for student,attendance in student_details.items():\n",
    "    print(student)\n",
    "    print(attendance)"
   ]
  },
  {
   "cell_type": "code",
   "execution_count": 49,
   "id": "366290c1",
   "metadata": {},
   "outputs": [],
   "source": [
    "student_details = {\n",
    "    \"Gokul\":43,\n",
    "    \"Dharani\":33,\n",
    "    \"Preetham\":45,\n",
    "    \"DDDDDD\":33\n",
    "}"
   ]
  },
  {
   "cell_type": "code",
   "execution_count": 51,
   "id": "9c2a2f57",
   "metadata": {},
   "outputs": [],
   "source": [
    "e,y = 11,2"
   ]
  },
  {
   "cell_type": "code",
   "execution_count": 52,
   "id": "163e3e0f",
   "metadata": {},
   "outputs": [
    {
     "data": {
      "text/plain": [
       "11"
      ]
     },
     "execution_count": 52,
     "metadata": {},
     "output_type": "execute_result"
    }
   ],
   "source": [
    "e"
   ]
  },
  {
   "cell_type": "code",
   "execution_count": 53,
   "id": "017e24dc",
   "metadata": {},
   "outputs": [
    {
     "data": {
      "text/plain": [
       "2"
      ]
     },
     "execution_count": 53,
     "metadata": {},
     "output_type": "execute_result"
    }
   ],
   "source": [
    "y"
   ]
  },
  {
   "cell_type": "code",
   "execution_count": 54,
   "id": "eb360349",
   "metadata": {},
   "outputs": [],
   "source": [
    "x , y = e, y"
   ]
  },
  {
   "cell_type": "code",
   "execution_count": 55,
   "id": "82e548e2",
   "metadata": {},
   "outputs": [
    {
     "data": {
      "text/plain": [
       "2"
      ]
     },
     "execution_count": 55,
     "metadata": {},
     "output_type": "execute_result"
    }
   ],
   "source": [
    "y"
   ]
  },
  {
   "cell_type": "code",
   "execution_count": 56,
   "id": "51976179",
   "metadata": {},
   "outputs": [],
   "source": [
    "x = (\"Gokul\",42,\"Dharnai\")"
   ]
  },
  {
   "cell_type": "code",
   "execution_count": null,
   "id": "ab08642d",
   "metadata": {},
   "outputs": [],
   "source": []
  }
 ],
 "metadata": {
  "kernelspec": {
   "display_name": "Python 3 (ipykernel)",
   "language": "python",
   "name": "python3"
  },
  "language_info": {
   "codemirror_mode": {
    "name": "ipython",
    "version": 3
   },
   "file_extension": ".py",
   "mimetype": "text/x-python",
   "name": "python",
   "nbconvert_exporter": "python",
   "pygments_lexer": "ipython3",
   "version": "3.9.13"
  }
 },
 "nbformat": 4,
 "nbformat_minor": 5
}
