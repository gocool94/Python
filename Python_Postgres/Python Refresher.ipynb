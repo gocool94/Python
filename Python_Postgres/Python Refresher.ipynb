{
 "cells": [
  {
   "cell_type": "code",
   "execution_count": 4,
   "id": "5a095380",
   "metadata": {},
   "outputs": [
    {
     "name": "stdout",
     "output_type": "stream",
     "text": [
      "115\n",
      "GokulGokulGokulGokulGokulGokulGokulGokulGokulGokulGokulGokul\n"
     ]
    }
   ],
   "source": [
    "#Variables\n",
    "\n",
    "x = 115\n",
    "\n",
    "print(x)\n",
    "\n",
    "name = \"Gokul\"\n",
    "\n",
    "print(name * 12)\n",
    "#This is a String\n",
    "\n",
    "#variable name = Variable value"
   ]
  },
  {
   "cell_type": "code",
   "execution_count": 8,
   "id": "c0a2d107",
   "metadata": {},
   "outputs": [
    {
     "name": "stdout",
     "output_type": "stream",
     "text": [
      "Hello Gokul K\n",
      "Hello , Gokul\n"
     ]
    }
   ],
   "source": [
    "#String formating\n",
    "\n",
    "name = \"Gokul\"\n",
    "Greetings = f\"Hello {name}\"\n",
    "\n",
    "Greetings = \"Hello , {}\".format(name) #using format\n",
    "\n",
    "lastname = \"K\"\n",
    "\n",
    "print(\"Hello {} {}\".format(name,lastname))\n",
    "\n",
    "print(Greetings)"
   ]
  },
  {
   "cell_type": "code",
   "execution_count": 11,
   "id": "a30d580a",
   "metadata": {},
   "outputs": [
    {
     "name": "stdout",
     "output_type": "stream",
     "text": [
      "Enter the input of the user ?? fff\n",
      "fff\n"
     ]
    }
   ],
   "source": [
    "#User input\n",
    "\n",
    "name = input(\"Enter the input of the user ?? \") #this will always return a string\n",
    "print(name)"
   ]
  },
  {
   "cell_type": "code",
   "execution_count": 14,
   "id": "2f159a77",
   "metadata": {},
   "outputs": [
    {
     "name": "stdout",
     "output_type": "stream",
     "text": [
      "123.22\n"
     ]
    }
   ],
   "source": [
    "number = 123.2235234\n",
    "print(f\"{number:.2f}\") #converts to the two digits\n",
    "\n"
   ]
  },
  {
   "cell_type": "code",
   "execution_count": 21,
   "id": "58fe82df",
   "metadata": {},
   "outputs": [],
   "source": [
    "# List tuple and sets\n",
    "\n",
    "L = [1,2,3,4,5] #list\n",
    "S = {1,2,3,4,5,1,2,3,4,5} #set # cant able to get the duplicate #no order\n",
    "T = (1,2,3,4,5) #tuple \n",
    "\n"
   ]
  },
  {
   "cell_type": "code",
   "execution_count": 24,
   "id": "81340c1b",
   "metadata": {},
   "outputs": [
    {
     "ename": "TypeError",
     "evalue": "'set' object is not subscriptable",
     "output_type": "error",
     "traceback": [
      "\u001b[1;31m---------------------------------------------------------------------------\u001b[0m",
      "\u001b[1;31mTypeError\u001b[0m                                 Traceback (most recent call last)",
      "\u001b[1;32m~\\AppData\\Local\\Temp\\ipykernel_19272\\3224534404.py\u001b[0m in \u001b[0;36m<module>\u001b[1;34m\u001b[0m\n\u001b[1;32m----> 1\u001b[1;33m \u001b[0mprint\u001b[0m\u001b[1;33m(\u001b[0m\u001b[0mS\u001b[0m\u001b[1;33m[\u001b[0m\u001b[1;36m3\u001b[0m\u001b[1;33m]\u001b[0m\u001b[1;33m)\u001b[0m\u001b[1;33m\u001b[0m\u001b[1;33m\u001b[0m\u001b[0m\n\u001b[0m",
      "\u001b[1;31mTypeError\u001b[0m: 'set' object is not subscriptable"
     ]
    }
   ],
   "source": [
    "print(S[3])"
   ]
  },
  {
   "cell_type": "code",
   "execution_count": 23,
   "id": "8cfe1d62",
   "metadata": {},
   "outputs": [],
   "source": [
    "S.add(123)"
   ]
  },
  {
   "cell_type": "code",
   "execution_count": 26,
   "id": "c8321b26",
   "metadata": {},
   "outputs": [
    {
     "name": "stdout",
     "output_type": "stream",
     "text": [
      "{'Gokul', 'Ravi'}\n"
     ]
    }
   ],
   "source": [
    "#Advanced set operation\n",
    "\n",
    "friends = {\"Venkat\",\"Ravi\",\"Gokul\"}\n",
    "abroad = {\"Venkat\"}\n",
    "print(friends.difference(abroad))"
   ]
  },
  {
   "cell_type": "code",
   "execution_count": 27,
   "id": "29bb9a82",
   "metadata": {},
   "outputs": [
    {
     "name": "stdout",
     "output_type": "stream",
     "text": [
      "{'Venkat', 'Gokul', 'Ravi'}\n"
     ]
    }
   ],
   "source": [
    "print(friends.union(abroad))"
   ]
  },
  {
   "cell_type": "code",
   "execution_count": 28,
   "id": "4428c0d4",
   "metadata": {},
   "outputs": [
    {
     "name": "stdout",
     "output_type": "stream",
     "text": [
      "{'Venkat'}\n"
     ]
    }
   ],
   "source": [
    "print(friends.intersection(abroad))"
   ]
  },
  {
   "cell_type": "code",
   "execution_count": 30,
   "id": "8ec991ac",
   "metadata": {},
   "outputs": [
    {
     "name": "stdout",
     "output_type": "stream",
     "text": [
      "False\n",
      "False\n"
     ]
    }
   ],
   "source": [
    "#Booleans\n",
    "\n",
    "print(friends == abroad)\n",
    "print(friends is abroad) # memory is being tracked"
   ]
  },
  {
   "cell_type": "code",
   "execution_count": 4,
   "id": "880f2e25",
   "metadata": {},
   "outputs": [
    {
     "name": "stdout",
     "output_type": "stream",
     "text": [
      "Enter the day of the week3\n",
      "Wednesday\n"
     ]
    }
   ],
   "source": [
    "#if statement\n",
    "\"\"\"\n",
    "if (condition):\n",
    "    #things to do\n",
    "\"\"\"\n",
    "\n",
    "day = int(input(\"Enter the day of the week\"))\n",
    "\n",
    "if(day==1):\n",
    "    print(\"Monday\")\n",
    "elif(day==2):\n",
    "    print(\"Tuesday\")\n",
    "elif(day==3):\n",
    "    print(\"Wednesday\")\n",
    "else:\n",
    "    print(\"Weekend\")\n",
    "\n",
    "    \n"
   ]
  },
  {
   "cell_type": "code",
   "execution_count": 6,
   "id": "8bf6a38d",
   "metadata": {},
   "outputs": [
    {
     "name": "stdout",
     "output_type": "stream",
     "text": [
      "False\n"
     ]
    }
   ],
   "source": [
    "#in keyword\n",
    "\n",
    "friends = [\"Venkat\",\"Ravi\"]\n",
    "\n",
    "print(\"jude\" in friends)"
   ]
  },
  {
   "cell_type": "code",
   "execution_count": 7,
   "id": "49644e8c",
   "metadata": {},
   "outputs": [
    {
     "name": "stdout",
     "output_type": "stream",
     "text": [
      "Enter the number2\n",
      "Yes the number is available\n"
     ]
    }
   ],
   "source": [
    "numbers = [1,2,3,4,5]\n",
    "\n",
    "if int(input(\"Enter the number\")) in numbers:\n",
    "    print(\"Yes the number is available\")\n",
    "    "
   ]
  },
  {
   "cell_type": "code",
   "execution_count": 8,
   "id": "2d385719",
   "metadata": {},
   "outputs": [
    {
     "name": "stdout",
     "output_type": "stream",
     "text": [
      "if you want to play y/ny\n",
      "Enter the number12\n",
      "You have failed\n"
     ]
    }
   ],
   "source": [
    "#check magic number\n",
    "\n",
    "import random as rd\n",
    "\n",
    "number = rd.randint(0,20)\n",
    "\n",
    "play = input(\"if you want to play y/n\").lower()\n",
    "\n",
    "if play == 'y':\n",
    "    user_number = int(input(\"Enter the number\"))\n",
    "    if user_number == number:\n",
    "        print(\"You have checked correctly\")\n",
    "    else:\n",
    "        print(\"You have failed\")\n",
    "\n"
   ]
  },
  {
   "cell_type": "code",
   "execution_count": 10,
   "id": "15ccac6d",
   "metadata": {},
   "outputs": [
    {
     "data": {
      "text/plain": [
       "1"
      ]
     },
     "execution_count": 10,
     "metadata": {},
     "output_type": "execute_result"
    }
   ],
   "source": [
    "abs(1) #absolute value\n",
    "abs(-1) #absolute value"
   ]
  },
  {
   "cell_type": "code",
   "execution_count": 14,
   "id": "ddffe136",
   "metadata": {},
   "outputs": [
    {
     "name": "stdout",
     "output_type": "stream",
     "text": [
      "if you want to play y/ny\n",
      "Enter the number12\n",
      "You are 9 away \n",
      "if you want to play y/ny\n",
      "Enter the number3\n",
      "You have checked correctly\n",
      "if you want to play y/n3\n"
     ]
    }
   ],
   "source": [
    "#Loops in python\n",
    "\n",
    "import random as rd\n",
    "\n",
    "number = rd.randint(0,20)\n",
    "\n",
    "\n",
    "while True:\n",
    "        play = input(\"if you want to play y/n\").lower()\n",
    "        \n",
    "        if play != 'y':\n",
    "            break\n",
    "\n",
    "        user_number = int(input(\"Enter the number\"))\n",
    "        if user_number == number:\n",
    "            print(\"You have checked correctly\")\n",
    "        else:\n",
    "            print(f\"You are {abs(number - user_number)} away \")\n"
   ]
  },
  {
   "cell_type": "markdown",
   "id": "647233e1",
   "metadata": {},
   "source": [
    "numbers = [1,2,3,4,5,6]"
   ]
  },
  {
   "cell_type": "code",
   "execution_count": 15,
   "id": "2eeb6560",
   "metadata": {},
   "outputs": [],
   "source": [
    "numbers = [1,2,3,4,5]"
   ]
  },
  {
   "cell_type": "code",
   "execution_count": 16,
   "id": "f812201e",
   "metadata": {},
   "outputs": [
    {
     "name": "stdout",
     "output_type": "stream",
     "text": [
      "1\n",
      "2\n",
      "3\n",
      "4\n",
      "5\n"
     ]
    }
   ],
   "source": [
    "for i in numbers:\n",
    "    print(i)"
   ]
  },
  {
   "cell_type": "code",
   "execution_count": 18,
   "id": "116165b3",
   "metadata": {},
   "outputs": [
    {
     "name": "stdout",
     "output_type": "stream",
     "text": [
      "0\n",
      "1\n",
      "2\n",
      "3\n",
      "4\n",
      "5\n"
     ]
    }
   ],
   "source": [
    "for i in range(0,6):\n",
    "    print(i)"
   ]
  },
  {
   "cell_type": "code",
   "execution_count": 26,
   "id": "3bec84c8",
   "metadata": {},
   "outputs": [
    {
     "name": "stdout",
     "output_type": "stream",
     "text": [
      "[2, 6, 10]\n"
     ]
    }
   ],
   "source": [
    "#List comprehension\n",
    "\n",
    "###    [#action #forloop]\n",
    "    \n",
    "num = [1,3,5]\n",
    "final = [ i * 2 for i in num]\n",
    "print(final)"
   ]
  },
  {
   "cell_type": "code",
   "execution_count": 22,
   "id": "2f1350b4",
   "metadata": {},
   "outputs": [
    {
     "data": {
      "text/plain": [
       "[2, 6, 10]"
      ]
     },
     "execution_count": 22,
     "metadata": {},
     "output_type": "execute_result"
    }
   ],
   "source": [
    "final"
   ]
  },
  {
   "cell_type": "code",
   "execution_count": null,
   "id": "e671984e",
   "metadata": {},
   "outputs": [],
   "source": []
  }
 ],
 "metadata": {
  "kernelspec": {
   "display_name": "Python 3 (ipykernel)",
   "language": "python",
   "name": "python3"
  },
  "language_info": {
   "codemirror_mode": {
    "name": "ipython",
    "version": 3
   },
   "file_extension": ".py",
   "mimetype": "text/x-python",
   "name": "python",
   "nbconvert_exporter": "python",
   "pygments_lexer": "ipython3",
   "version": "3.9.13"
  }
 },
 "nbformat": 4,
 "nbformat_minor": 5
}
