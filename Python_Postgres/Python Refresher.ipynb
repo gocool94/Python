{
 "cells": [
  {
   "cell_type": "code",
   "execution_count": 4,
   "id": "5a095380",
   "metadata": {},
   "outputs": [
    {
     "name": "stdout",
     "output_type": "stream",
     "text": [
      "115\n",
      "GokulGokulGokulGokulGokulGokulGokulGokulGokulGokulGokulGokul\n"
     ]
    }
   ],
   "source": [
    "#Variables\n",
    "\n",
    "x = 115\n",
    "\n",
    "print(x)\n",
    "\n",
    "name = \"Gokul\"\n",
    "\n",
    "print(name * 12)\n",
    "#This is a String\n",
    "\n",
    "#variable name = Variable value"
   ]
  },
  {
   "cell_type": "code",
   "execution_count": 8,
   "id": "c0a2d107",
   "metadata": {},
   "outputs": [
    {
     "name": "stdout",
     "output_type": "stream",
     "text": [
      "Hello Gokul K\n",
      "Hello , Gokul\n"
     ]
    }
   ],
   "source": [
    "#String formating\n",
    "\n",
    "name = \"Gokul\"\n",
    "Greetings = f\"Hello {name}\"\n",
    "\n",
    "Greetings = \"Hello , {}\".format(name) #using format\n",
    "\n",
    "lastname = \"K\"\n",
    "\n",
    "print(\"Hello {} {}\".format(name,lastname))\n",
    "\n",
    "print(Greetings)"
   ]
  },
  {
   "cell_type": "code",
   "execution_count": 11,
   "id": "a30d580a",
   "metadata": {},
   "outputs": [
    {
     "name": "stdout",
     "output_type": "stream",
     "text": [
      "Enter the input of the user ?? fff\n",
      "fff\n"
     ]
    }
   ],
   "source": [
    "#User input\n",
    "\n",
    "name = input(\"Enter the input of the user ?? \") #this will always return a string\n",
    "print(name)"
   ]
  },
  {
   "cell_type": "code",
   "execution_count": 14,
   "id": "2f159a77",
   "metadata": {},
   "outputs": [
    {
     "name": "stdout",
     "output_type": "stream",
     "text": [
      "123.22\n"
     ]
    }
   ],
   "source": [
    "number = 123.2235234\n",
    "print(f\"{number:.2f}\") #converts to the two digits\n",
    "\n"
   ]
  },
  {
   "cell_type": "code",
   "execution_count": 21,
   "id": "58fe82df",
   "metadata": {},
   "outputs": [],
   "source": [
    "# List tuple and sets\n",
    "\n",
    "L = [1,2,3,4,5] #list\n",
    "S = {1,2,3,4,5,1,2,3,4,5} #set # cant able to get the duplicate #no order\n",
    "T = (1,2,3,4,5) #tuple \n",
    "\n"
   ]
  },
  {
   "cell_type": "code",
   "execution_count": 24,
   "id": "81340c1b",
   "metadata": {},
   "outputs": [
    {
     "ename": "TypeError",
     "evalue": "'set' object is not subscriptable",
     "output_type": "error",
     "traceback": [
      "\u001b[1;31m---------------------------------------------------------------------------\u001b[0m",
      "\u001b[1;31mTypeError\u001b[0m                                 Traceback (most recent call last)",
      "\u001b[1;32m~\\AppData\\Local\\Temp\\ipykernel_19272\\3224534404.py\u001b[0m in \u001b[0;36m<module>\u001b[1;34m\u001b[0m\n\u001b[1;32m----> 1\u001b[1;33m \u001b[0mprint\u001b[0m\u001b[1;33m(\u001b[0m\u001b[0mS\u001b[0m\u001b[1;33m[\u001b[0m\u001b[1;36m3\u001b[0m\u001b[1;33m]\u001b[0m\u001b[1;33m)\u001b[0m\u001b[1;33m\u001b[0m\u001b[1;33m\u001b[0m\u001b[0m\n\u001b[0m",
      "\u001b[1;31mTypeError\u001b[0m: 'set' object is not subscriptable"
     ]
    }
   ],
   "source": [
    "print(S[3])"
   ]
  },
  {
   "cell_type": "code",
   "execution_count": 23,
   "id": "8cfe1d62",
   "metadata": {},
   "outputs": [],
   "source": [
    "S.add(123)"
   ]
  },
  {
   "cell_type": "code",
   "execution_count": 26,
   "id": "c8321b26",
   "metadata": {},
   "outputs": [
    {
     "name": "stdout",
     "output_type": "stream",
     "text": [
      "{'Gokul', 'Ravi'}\n"
     ]
    }
   ],
   "source": [
    "#Advanced set operation\n",
    "\n",
    "friends = {\"Venkat\",\"Ravi\",\"Gokul\"}\n",
    "abroad = {\"Venkat\"}\n",
    "print(friends.difference(abroad))"
   ]
  },
  {
   "cell_type": "code",
   "execution_count": 27,
   "id": "29bb9a82",
   "metadata": {},
   "outputs": [
    {
     "name": "stdout",
     "output_type": "stream",
     "text": [
      "{'Venkat', 'Gokul', 'Ravi'}\n"
     ]
    }
   ],
   "source": [
    "print(friends.union(abroad))"
   ]
  },
  {
   "cell_type": "code",
   "execution_count": 28,
   "id": "4428c0d4",
   "metadata": {},
   "outputs": [
    {
     "name": "stdout",
     "output_type": "stream",
     "text": [
      "{'Venkat'}\n"
     ]
    }
   ],
   "source": [
    "print(friends.intersection(abroad))"
   ]
  },
  {
   "cell_type": "code",
   "execution_count": 30,
   "id": "8ec991ac",
   "metadata": {},
   "outputs": [
    {
     "name": "stdout",
     "output_type": "stream",
     "text": [
      "False\n",
      "False\n"
     ]
    }
   ],
   "source": [
    "#Booleans\n",
    "\n",
    "print(friends == abroad)\n",
    "print(friends is abroad) # memory is being tracked"
   ]
  },
  {
   "cell_type": "code",
   "execution_count": 4,
   "id": "880f2e25",
   "metadata": {},
   "outputs": [
    {
     "name": "stdout",
     "output_type": "stream",
     "text": [
      "Enter the day of the week3\n",
      "Wednesday\n"
     ]
    }
   ],
   "source": [
    "#if statement\n",
    "\"\"\"\n",
    "if (condition):\n",
    "    #things to do\n",
    "\"\"\"\n",
    "\n",
    "day = int(input(\"Enter the day of the week\"))\n",
    "\n",
    "if(day==1):\n",
    "    print(\"Monday\")\n",
    "elif(day==2):\n",
    "    print(\"Tuesday\")\n",
    "elif(day==3):\n",
    "    print(\"Wednesday\")\n",
    "else:\n",
    "    print(\"Weekend\")\n",
    "\n",
    "    \n"
   ]
  },
  {
   "cell_type": "code",
   "execution_count": 6,
   "id": "5c343e90",
   "metadata": {},
   "outputs": [
    {
     "name": "stdout",
     "output_type": "stream",
     "text": [
      "False\n"
     ]
    }
   ],
   "source": [
    "#in keyword\n",
    "\n",
    "friends = [\"Venkat\",\"Ravi\"]\n",
    "\n",
    "print(\"jude\" in friends)"
   ]
  },
  {
   "cell_type": "code",
   "execution_count": 7,
   "id": "f2116ee4",
   "metadata": {},
   "outputs": [
    {
     "name": "stdout",
     "output_type": "stream",
     "text": [
      "Enter the number2\n",
      "Yes the number is available\n"
     ]
    }
   ],
   "source": [
    "numbers = [1,2,3,4,5]\n",
    "\n",
    "if int(input(\"Enter the number\")) in numbers:\n",
    "    print(\"Yes the number is available\")\n",
    "    "
   ]
  },
  {
   "cell_type": "code",
   "execution_count": 8,
   "id": "cbdfb0ac",
   "metadata": {},
   "outputs": [
    {
     "name": "stdout",
     "output_type": "stream",
     "text": [
      "if you want to play y/ny\n",
      "Enter the number12\n",
      "You have failed\n"
     ]
    }
   ],
   "source": [
    "#check magic number\n",
    "\n",
    "import random as rd\n",
    "\n",
    "number = rd.randint(0,20)\n",
    "\n",
    "play = input(\"if you want to play y/n\").lower()\n",
    "\n",
    "if play == 'y':\n",
    "    user_number = int(input(\"Enter the number\"))\n",
    "    if user_number == number:\n",
    "        print(\"You have checked correctly\")\n",
    "    else:\n",
    "        print(\"You have failed\")\n",
    "\n"
   ]
  },
  {
   "cell_type": "code",
   "execution_count": 10,
   "id": "6b82cbd3",
   "metadata": {},
   "outputs": [
    {
     "data": {
      "text/plain": [
       "1"
      ]
     },
     "execution_count": 10,
     "metadata": {},
     "output_type": "execute_result"
    }
   ],
   "source": [
    "abs(1) #absolute value\n",
    "abs(-1) #absolute value"
   ]
  },
  {
   "cell_type": "code",
   "execution_count": 14,
   "id": "84ffee08",
   "metadata": {},
   "outputs": [
    {
     "name": "stdout",
     "output_type": "stream",
     "text": [
      "if you want to play y/ny\n",
      "Enter the number12\n",
      "You are 9 away \n",
      "if you want to play y/ny\n",
      "Enter the number3\n",
      "You have checked correctly\n",
      "if you want to play y/n3\n"
     ]
    }
   ],
   "source": [
    "#Loops in python\n",
    "\n",
    "import random as rd\n",
    "\n",
    "number = rd.randint(0,20)\n",
    "\n",
    "\n",
    "while True:\n",
    "        play = input(\"if you want to play y/n\").lower()\n",
    "        \n",
    "        if play != 'y':\n",
    "            break\n",
    "\n",
    "        user_number = int(input(\"Enter the number\"))\n",
    "        if user_number == number:\n",
    "            print(\"You have checked correctly\")\n",
    "        else:\n",
    "            print(f\"You are {abs(number - user_number)} away \")\n"
   ]
  },
  {
   "cell_type": "markdown",
   "id": "a8d9bbd3",
   "metadata": {},
   "source": [
    "numbers = [1,2,3,4,5,6]"
   ]
  },
  {
   "cell_type": "code",
   "execution_count": 15,
   "id": "6d1778bf",
   "metadata": {},
   "outputs": [],
   "source": [
    "numbers = [1,2,3,4,5]"
   ]
  },
  {
   "cell_type": "code",
   "execution_count": 16,
   "id": "d94239bb",
   "metadata": {},
   "outputs": [
    {
     "name": "stdout",
     "output_type": "stream",
     "text": [
      "1\n",
      "2\n",
      "3\n",
      "4\n",
      "5\n"
     ]
    }
   ],
   "source": [
    "for i in numbers:\n",
    "    print(i)"
   ]
  },
  {
   "cell_type": "code",
   "execution_count": 18,
   "id": "94cbd5bf",
   "metadata": {},
   "outputs": [
    {
     "name": "stdout",
     "output_type": "stream",
     "text": [
      "0\n",
      "1\n",
      "2\n",
      "3\n",
      "4\n",
      "5\n"
     ]
    }
   ],
   "source": [
    "for i in range(0,6):\n",
    "    print(i)"
   ]
  },
  {
   "cell_type": "code",
   "execution_count": 26,
   "id": "5b6d1840",
   "metadata": {},
   "outputs": [
    {
     "name": "stdout",
     "output_type": "stream",
     "text": [
      "[2, 6, 10]\n"
     ]
    }
   ],
   "source": [
    "#List comprehension\n",
    "\n",
    "###    [#action #forloop]\n",
    "    \n",
    "num = [1,3,5]\n",
    "final = [ i * 2 for i in num]\n",
    "print(final)"
   ]
  },
  {
   "cell_type": "code",
   "execution_count": 22,
   "id": "4139540f",
   "metadata": {},
   "outputs": [
    {
     "data": {
      "text/plain": [
       "[2, 6, 10]"
      ]
     },
     "execution_count": 22,
     "metadata": {},
     "output_type": "execute_result"
    }
   ],
   "source": [
    "final"
   ]
  },
  {
   "cell_type": "code",
   "execution_count": 27,
   "id": "5f522b9b",
   "metadata": {},
   "outputs": [
    {
     "data": {
      "text/plain": [
       "[2, 4, 6, 8]"
      ]
     },
     "execution_count": 27,
     "metadata": {},
     "output_type": "execute_result"
    }
   ],
   "source": [
    "num = [1,2,3,4,5,6,7,8,9]\n",
    "\n",
    "###   [what variable you wanted to add , for loop, if condition]\n",
    "\n",
    "\n",
    "[i for i in num if(i%2==0)]"
   ]
  },
  {
   "cell_type": "code",
   "execution_count": 28,
   "id": "ca29d833",
   "metadata": {},
   "outputs": [
    {
     "data": {
      "text/plain": [
       "2194945707456"
      ]
     },
     "execution_count": 28,
     "metadata": {},
     "output_type": "execute_result"
    }
   ],
   "source": [
    "id(num)"
   ]
  },
  {
   "cell_type": "code",
   "execution_count": 5,
   "id": "de6b2fb8",
   "metadata": {},
   "outputs": [
    {
     "name": "stdout",
     "output_type": "stream",
     "text": [
      "30\n"
     ]
    }
   ],
   "source": [
    "#dictionaries\n",
    "\n",
    "friend_ages = {'Amar':30,'Avi':29,'Vineeth':28}\n",
    "print(friend_ages['Amar'])"
   ]
  },
  {
   "cell_type": "code",
   "execution_count": 6,
   "id": "4e564a57",
   "metadata": {},
   "outputs": [],
   "source": [
    "friend_ages['Arun'] = 40"
   ]
  },
  {
   "cell_type": "code",
   "execution_count": 7,
   "id": "a25d5a9d",
   "metadata": {},
   "outputs": [
    {
     "name": "stdout",
     "output_type": "stream",
     "text": [
      "{'Amar': 30, 'Avi': 29, 'Vineeth': 28, 'Arun': 40}\n"
     ]
    }
   ],
   "source": [
    "print(friend_ages)"
   ]
  },
  {
   "cell_type": "code",
   "execution_count": 8,
   "id": "034c6918",
   "metadata": {},
   "outputs": [
    {
     "data": {
      "text/plain": [
       "'Arun'"
      ]
     },
     "execution_count": 8,
     "metadata": {},
     "output_type": "execute_result"
    }
   ],
   "source": [
    "friends = [\n",
    "    {'name':'Amar','Age':29},\n",
    "    {'name':'AVi','Age':28},\n",
    "    {'name':'Arun','Age':27},\n",
    "    {'name':'Bellu','Age':30},\n",
    "]\n",
    "\n",
    "friends[2]['name']"
   ]
  },
  {
   "cell_type": "code",
   "execution_count": 9,
   "id": "8d765c5a",
   "metadata": {},
   "outputs": [
    {
     "name": "stdout",
     "output_type": "stream",
     "text": [
      "30\n",
      "29\n",
      "28\n",
      "40\n"
     ]
    }
   ],
   "source": [
    "for i in friend_ages:\n",
    "    print(friend_ages[i])"
   ]
  },
  {
   "cell_type": "code",
   "execution_count": 10,
   "id": "46fc656b",
   "metadata": {},
   "outputs": [
    {
     "name": "stdout",
     "output_type": "stream",
     "text": [
      "Amar\n",
      "30\n",
      "Avi\n",
      "29\n",
      "Vineeth\n",
      "28\n",
      "Arun\n",
      "40\n"
     ]
    }
   ],
   "source": [
    "for friends, ages in friend_ages.items():\n",
    "    print(friends)\n",
    "    print(ages)"
   ]
  },
  {
   "cell_type": "code",
   "execution_count": 39,
   "id": "ecb3bbc4",
   "metadata": {},
   "outputs": [
    {
     "name": "stdout",
     "output_type": "stream",
     "text": [
      "dict_values([30, 29, 28, 40])\n"
     ]
    }
   ],
   "source": [
    "print(friend_ages.values())"
   ]
  },
  {
   "cell_type": "code",
   "execution_count": 40,
   "id": "995eb3c8",
   "metadata": {},
   "outputs": [
    {
     "data": {
      "text/plain": [
       "127"
      ]
     },
     "execution_count": 40,
     "metadata": {},
     "output_type": "execute_result"
    }
   ],
   "source": [
    "sum(friend_ages.values())"
   ]
  },
  {
   "cell_type": "code",
   "execution_count": 1,
   "id": "29a06258",
   "metadata": {},
   "outputs": [
    {
     "name": "stdout",
     "output_type": "stream",
     "text": [
      "1\n"
     ]
    }
   ],
   "source": [
    "#Destructuring variables\n",
    "\n",
    "x , y = 10,15\n",
    "\n",
    "t = (1,2)\n",
    "\n",
    "y , z = t\n",
    "\n",
    "print(y)"
   ]
  },
  {
   "cell_type": "code",
   "execution_count": 42,
   "id": "8405f0fa",
   "metadata": {},
   "outputs": [],
   "source": []
  },
  {
   "cell_type": "code",
   "execution_count": 43,
   "id": "7341c690",
   "metadata": {},
   "outputs": [
    {
     "data": {
      "text/plain": [
       "1"
      ]
     },
     "execution_count": 43,
     "metadata": {},
     "output_type": "execute_result"
    }
   ],
   "source": [
    "y"
   ]
  },
  {
   "cell_type": "code",
   "execution_count": 11,
   "id": "6ed5831f",
   "metadata": {},
   "outputs": [
    {
     "name": "stdout",
     "output_type": "stream",
     "text": [
      "[('Amar', 30), ('Avi', 29), ('Vineeth', 28), ('Arun', 40)]\n"
     ]
    }
   ],
   "source": [
    "\n",
    "print(list(friend_ages.items()))"
   ]
  },
  {
   "cell_type": "code",
   "execution_count": 12,
   "id": "527d0537",
   "metadata": {},
   "outputs": [],
   "source": [
    "head , *tail = [1,2,3,4,5]"
   ]
  },
  {
   "cell_type": "code",
   "execution_count": 14,
   "id": "0d56354b",
   "metadata": {},
   "outputs": [
    {
     "data": {
      "text/plain": [
       "1"
      ]
     },
     "execution_count": 14,
     "metadata": {},
     "output_type": "execute_result"
    }
   ],
   "source": [
    "head"
   ]
  },
  {
   "cell_type": "code",
   "execution_count": 15,
   "id": "a0cf1e73",
   "metadata": {},
   "outputs": [
    {
     "data": {
      "text/plain": [
       "[2, 3, 4, 5]"
      ]
     },
     "execution_count": 15,
     "metadata": {},
     "output_type": "execute_result"
    }
   ],
   "source": [
    "tail"
   ]
  },
  {
   "cell_type": "code",
   "execution_count": 16,
   "id": "47321b21",
   "metadata": {},
   "outputs": [
    {
     "name": "stdout",
     "output_type": "stream",
     "text": [
      "Hello\n"
     ]
    }
   ],
   "source": [
    "#functions\n",
    "\n",
    "def hello():\n",
    "    print(\"Hello\")\n",
    "    \n",
    "hello()"
   ]
  },
  {
   "cell_type": "code",
   "execution_count": 18,
   "id": "b03960e3",
   "metadata": {},
   "outputs": [
    {
     "name": "stdout",
     "output_type": "stream",
     "text": [
      "Enter the user age \n",
      "29\n",
      "The number of minutes lived is 15242400\n"
     ]
    }
   ],
   "source": [
    "def user_age_in_minutes():\n",
    "    num = int(input(\"Enter the user age \\n\"))\n",
    "    print(f\"The number of minutes lived is {num * 365 * 24 * 60}\")\n",
    "user_age_in_minutes()"
   ]
  },
  {
   "cell_type": "code",
   "execution_count": 25,
   "id": "aee71940",
   "metadata": {},
   "outputs": [
    {
     "name": "stdout",
     "output_type": "stream",
     "text": [
      "7\n"
     ]
    }
   ],
   "source": [
    "#functions argument and parameters\n",
    "b_value = 5\n",
    "def addition(a=1,b=b_value):\n",
    "    print(a+b)\n",
    "    \n",
    "addition(a=2)"
   ]
  },
  {
   "cell_type": "code",
   "execution_count": 24,
   "id": "e0846547",
   "metadata": {},
   "outputs": [],
   "source": [
    "x = 0\n",
    "x = x + 5"
   ]
  },
  {
   "cell_type": "code",
   "execution_count": 26,
   "id": "c39a0a76",
   "metadata": {},
   "outputs": [
    {
     "name": "stdout",
     "output_type": "stream",
     "text": [
      "7\n"
     ]
    }
   ],
   "source": [
    "#Return values\n",
    "\n",
    "\n",
    "def add(x,y):\n",
    "    return x + y\n",
    "\n",
    "result = add(3,4)\n",
    "print(result)"
   ]
  },
  {
   "cell_type": "code",
   "execution_count": 28,
   "id": "7eb47ea3",
   "metadata": {},
   "outputs": [
    {
     "name": "stdout",
     "output_type": "stream",
     "text": [
      "21\n"
     ]
    }
   ],
   "source": [
    "#Lambda function\n",
    "\n",
    "x = lambda a, b, c : a + b + c\n",
    "print(x(5, 6, c=10))\n",
    "\n",
    "# x is a function name\n",
    "#lambda is a anonymous function\n",
    "# a, b, c is the arguments\n",
    "\n"
   ]
  },
  {
   "cell_type": "code",
   "execution_count": 29,
   "id": "9e0cf3a9",
   "metadata": {},
   "outputs": [
    {
     "name": "stdout",
     "output_type": "stream",
     "text": [
      "5\n"
     ]
    }
   ],
   "source": [
    "add = lambda a,b : a + b\n",
    "\n",
    "print(add(2,3))"
   ]
  },
  {
   "cell_type": "code",
   "execution_count": 30,
   "id": "0f55952e",
   "metadata": {},
   "outputs": [
    {
     "data": {
      "text/plain": [
       "200"
      ]
     },
     "execution_count": 30,
     "metadata": {},
     "output_type": "execute_result"
    }
   ],
   "source": [
    "\n",
    "\n",
    "function_name = lambda a , b : a * b\n",
    "\n",
    "function_name(10,20)"
   ]
  },
  {
   "cell_type": "code",
   "execution_count": 31,
   "id": "81e5e9a0",
   "metadata": {},
   "outputs": [
    {
     "data": {
      "text/plain": [
       "225"
      ]
     },
     "execution_count": 31,
     "metadata": {},
     "output_type": "execute_result"
    }
   ],
   "source": [
    "(lambda a,b : a*a + 2*a*b + b*b)(5,10)"
   ]
  },
  {
   "cell_type": "code",
   "execution_count": 32,
   "id": "5e0c05d2",
   "metadata": {},
   "outputs": [
    {
     "name": "stdout",
     "output_type": "stream",
     "text": [
      "[1, 4, 9, 16, 25]\n"
     ]
    }
   ],
   "source": [
    "def addition(n):\n",
    "    return n * n\n",
    "\n",
    "seq = [1,2,3,4,5]\n",
    "\n",
    "final_value = [addition(i) for i in seq]\n",
    "\n",
    "print(final_value)"
   ]
  },
  {
   "cell_type": "code",
   "execution_count": 39,
   "id": "ab5f3de8",
   "metadata": {},
   "outputs": [],
   "source": [
    "final_value = list(map(addition,seq))"
   ]
  },
  {
   "cell_type": "code",
   "execution_count": 40,
   "id": "5212c047",
   "metadata": {},
   "outputs": [
    {
     "name": "stdout",
     "output_type": "stream",
     "text": [
      "[1, 4, 9, 16, 25]\n"
     ]
    }
   ],
   "source": [
    "print(final_value)"
   ]
  },
  {
   "cell_type": "code",
   "execution_count": 41,
   "id": "3c9454ef",
   "metadata": {},
   "outputs": [],
   "source": [
    "#map(actions,sequence)"
   ]
  },
  {
   "cell_type": "code",
   "execution_count": 42,
   "id": "4e124cc2",
   "metadata": {},
   "outputs": [],
   "source": [
    "#dictionary comprehension\n",
    "\n",
    "users = [\n",
    "    (1,\"gokul\",\"gocool94@gmail.com\"),\n",
    "    (2,\"Dharani\",\"dharanirocks94@gmail.com\"),\n",
    "    (3,\"Niranjhani\",\"Niranjhani16@gmail.com\"),\n",
    "    (4,\"Amarnath\",\"amarmani@gmail.com\")\n",
    "]"
   ]
  },
  {
   "cell_type": "code",
   "execution_count": 43,
   "id": "0e748c71",
   "metadata": {},
   "outputs": [
    {
     "data": {
      "text/plain": [
       "{'gokul': (1, 'gokul', 'gocool94@gmail.com'),\n",
       " 'Dharani': (2, 'Dharani', 'dharanirocks94@gmail.com'),\n",
       " 'Niranjhani': (3, 'Niranjhani', 'Niranjhani16@gmail.com'),\n",
       " 'Amarnath': (4, 'Amarnath', 'amarmani@gmail.com')}"
      ]
     },
     "execution_count": 43,
     "metadata": {},
     "output_type": "execute_result"
    }
   ],
   "source": [
    "{user[1] : user for user in users}"
   ]
  },
  {
   "cell_type": "code",
   "execution_count": 44,
   "id": "a6ed26da",
   "metadata": {},
   "outputs": [
    {
     "name": "stdout",
     "output_type": "stream",
     "text": [
      "1\n",
      "2\n",
      "3\n",
      "4\n",
      "5\n"
     ]
    }
   ],
   "source": [
    "#unpacking arguments\n",
    "\n",
    "def add (*args):\n",
    "    \n",
    "    for arg in args:\n",
    "        print(arg)\n",
    "        \n",
    "add(1,2,3,4,5)"
   ]
  },
  {
   "cell_type": "code",
   "execution_count": 4,
   "id": "0bc63156",
   "metadata": {},
   "outputs": [
    {
     "name": "stdout",
     "output_type": "stream",
     "text": [
      "name\n",
      "age\n",
      "1\n",
      "2\n",
      "3\n"
     ]
    }
   ],
   "source": [
    "def add(**kwargs):\n",
    "    for i in kwargs:\n",
    "        print(i)\n",
    "        \n",
    "add (name=\"Gokul\",age=12)\n",
    "add(**{\"1\":\"23232\",\"2\":\"2323232323\",\"3\":\"232323232\"})"
   ]
  },
  {
   "cell_type": "code",
   "execution_count": null,
   "id": "494a64d0",
   "metadata": {},
   "outputs": [],
   "source": [
    "#Object oriented programming\n",
    "\n"
   ]
  }
 ],
 "metadata": {
  "kernelspec": {
   "display_name": "Python 3 (ipykernel)",
   "language": "python",
   "name": "python3"
  },
  "language_info": {
   "codemirror_mode": {
    "name": "ipython",
    "version": 3
   },
   "file_extension": ".py",
   "mimetype": "text/x-python",
   "name": "python",
   "nbconvert_exporter": "python",
   "pygments_lexer": "ipython3",
   "version": "3.9.13"
  }
 },
 "nbformat": 4,
 "nbformat_minor": 5
}
