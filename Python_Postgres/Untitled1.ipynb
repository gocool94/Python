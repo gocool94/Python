{
 "cells": [
  {
   "cell_type": "code",
   "execution_count": 1,
   "id": "eb9a4e75",
   "metadata": {},
   "outputs": [
    {
     "name": "stdout",
     "output_type": "stream",
     "text": [
      "   ID  Value\n",
      "0   1      4\n",
      "1   2     16\n",
      "2   3     36\n",
      "3   4     64\n",
      "4   5    100\n",
      "5   6    144\n",
      "6   7    196\n",
      "7   8    256\n",
      "8   9    324\n",
      "9  10    400\n"
     ]
    },
    {
     "name": "stderr",
     "output_type": "stream",
     "text": [
      "C:\\Users\\Gokul\\AppData\\Local\\Temp\\ipykernel_22428\\3276445315.py:8: SettingWithCopyWarning: \n",
      "A value is trying to be set on a copy of a slice from a DataFrame.\n",
      "Try using .loc[row_indexer,col_indexer] = value instead\n",
      "\n",
      "See the caveats in the documentation: https://pandas.pydata.org/pandas-docs/stable/user_guide/indexing.html#returning-a-view-versus-a-copy\n",
      "  chunk['Value'] = chunk['Value'] ** 2\n"
     ]
    }
   ],
   "source": [
    "import pandas as pd\n",
    "import concurrent.futures\n",
    "\n",
    "# Define the operation to be performed on each chunk\n",
    "def process_chunk(chunk):\n",
    "    # Perform your desired operations on the chunk\n",
    "    # For example, let's square the values in the 'Value' column\n",
    "    chunk['Value'] = chunk['Value'] ** 2\n",
    "    return chunk\n",
    "\n",
    "# Create a DataFrame\n",
    "data = {'ID': [1, 2, 3, 4, 5, 6, 7, 8, 9, 10],\n",
    "        'Value': [2, 4, 6, 8, 10, 12, 14, 16, 18, 20]}\n",
    "df = pd.DataFrame(data)\n",
    "\n",
    "# Define the number of chunks and the size of each chunk\n",
    "num_chunks = 3\n",
    "chunk_size = len(df) // num_chunks\n",
    "\n",
    "# Function to process each chunk in parallel\n",
    "def process_chunks_parallel(chunk):\n",
    "    return process_chunk(chunk)\n",
    "\n",
    "# Split the DataFrame into smaller chunks\n",
    "chunks = [df[i:i + chunk_size] for i in range(0, len(df), chunk_size)]\n",
    "\n",
    "# Process the chunks in parallel using multithreading\n",
    "with concurrent.futures.ThreadPoolExecutor() as executor:\n",
    "    processed_chunks = executor.map(process_chunks_parallel, chunks)\n",
    "\n",
    "# Combine the processed chunks into a single DataFrame\n",
    "combined_df = pd.concat(processed_chunks)\n",
    "\n",
    "# Print the combined DataFrame\n",
    "print(combined_df)\n"
   ]
  },
  {
   "cell_type": "code",
   "execution_count": 2,
   "id": "974bc185",
   "metadata": {},
   "outputs": [
    {
     "name": "stdout",
     "output_type": "stream",
     "text": [
      "   ID  Value\n",
      "0   1      4\n",
      "1   2     16\n",
      "2   3     36\n",
      "3   4     64\n",
      "4   5    100\n",
      "5   6    144\n",
      "6   7    196\n",
      "7   8    256\n",
      "8   9    324\n",
      "9  10    400\n"
     ]
    }
   ],
   "source": [
    "import pandas as pd\n",
    "from joblib import Parallel, delayed\n",
    "\n",
    "# Define the operation to be performed on each chunk\n",
    "def process_chunk(chunk):\n",
    "    # Perform your desired operations on the chunk\n",
    "    # For example, let's square the values in the 'Value' column\n",
    "    chunk.loc[:, 'Value'] = chunk['Value'] ** 2\n",
    "    return chunk\n",
    "\n",
    "# Create a DataFrame\n",
    "data = {'ID': [1, 2, 3, 4, 5, 6, 7, 8, 9, 10],\n",
    "        'Value': [2, 4, 6, 8, 10, 12, 14, 16, 18, 20]}\n",
    "df = pd.DataFrame(data)\n",
    "\n",
    "# Define the number of chunks and the size of each chunk\n",
    "num_chunks = 3\n",
    "chunk_size = len(df) // num_chunks\n",
    "\n",
    "# Split the DataFrame into smaller chunks\n",
    "chunks = [df[i:i + chunk_size].copy() for i in range(0, len(df), chunk_size)]\n",
    "\n",
    "# Process the chunks in parallel using multithreading\n",
    "processed_chunks = Parallel(n_jobs=-1)(delayed(process_chunk)(chunk) for chunk in chunks)\n",
    "\n",
    "# Combine the processed chunks into a single DataFrame\n",
    "combined_df = pd.concat(processed_chunks)\n",
    "\n",
    "# Print the combined DataFrame\n",
    "print(combined_df)\n"
   ]
  },
  {
   "cell_type": "code",
   "execution_count": null,
   "id": "0582cb7f",
   "metadata": {},
   "outputs": [],
   "source": [
    "import pandas as pd\n",
    "from joblib import Parallel, delayed\n",
    "\n",
    "# Define the operation to be performed on each chunk\n",
    "def process_chunk(chunk):\n",
    "    for i in range(0, len(chunk)):\n",
    "    patient_id = chunk.iloc[i, 0]\n",
    "    patient_fname = chunk.iloc[i, 1]\n",
    "    patient_lname = chunk.iloc[i, 2]\n",
    "    patient_mname = chunk.iloc[i, 3]\n",
    "    patient_gender = chunk.iloc[i, 4]\n",
    "    patient_dob = str(chunk.iloc[i, 5])\n",
    "    patient_mrn = chunk.iloc[i, 6]\n",
    "\n",
    "    re = requests.get(\n",
    "        \"https://fhir.epic.com/interconnect-fhir-oauth/api/FHIR/R4/Patient?birthdate=\" + patient_dob + \"&family=\" + patient_lname + \"&gender=\" + patient_gender + \"\",\n",
    "        headers=headers)\n",
    "    # get the status code\n",
    "    print(re.status_code)\n",
    "    while (re.status_code == 401):\n",
    "        get_connection(bearer_token=input(\"Token here  :\"))\n",
    "        # bearer token get here\n",
    "        re = requests.get(\n",
    "            \"https://fhir.epic.com/interconnect-fhir-oauth/api/FHIR/R4/Patient?birthdate=\" + patient_dob + \"&family=\" + patient_lname + \"&gender=\" + patient_gender + \"\",\n",
    "            headers=headers)\n",
    "\n",
    "    str_data = re.content.decode('utf-8')\n",
    "\n",
    "    # Convert string to Python object\n",
    "    python_obj = json.loads(str_data)\n",
    "\n",
    "    # Convert Python object to JSON string\n",
    "    json_data = json.dumps(python_obj)\n",
    "    print(json_data)\n",
    "\n",
    "    p_value = python_obj[\"total\"]\n",
    "    print(p_value)\n",
    "    patient_entry = python_obj.get('entry', [])[0]\n",
    "    # Assumes only one patient entry\n",
    "\n",
    "    if p_value >= 1:\n",
    "        patient_resource = patient_entry.get('resource', {})\n",
    "        patient_id = patient_resource.get('id')\n",
    "        print(patient_id)\n",
    "        chunk.iloc[i, 7] = patient_id\n",
    "\n",
    "        chunk.iloc[i, 8] = \"true\"\n",
    "\n",
    "    else:\n",
    "        chunk.iloc[i, 7] = 0\n",
    "        chunk.iloc[i, 8] = 'false'\n",
    "    print(chunk)\n",
    "    return chunk\n",
    "\"\"\"\n",
    "                # Create a DataFrame\n",
    "                data = {'ID': [1, 2, 3, 4, 5, 6, 7, 8, 9, 10],\n",
    "                        'Value': [2, 4, 6, 8, 10, 12, 14, 16, 18, 20]}\n",
    "                df = pd.DataFrame(data)\n",
    "\"\"\"\n",
    "\n",
    "\n",
    "# Define the number of chunks and the size of each chunk\n",
    "num_chunks = 100\n",
    "chunk_size = len(df) // num_chunks\n",
    "\n",
    "# Split the DataFrame into smaller chunks\n",
    "chunks = [df[i:i + chunk_size].copy() for i in range(0, len(df), chunk_size)]\n",
    "\n",
    "# Process the chunks in parallel using multithreading\n",
    "processed_chunks = Parallel(n_jobs=-1)(delayed(process_chunk)(chunk) for chunk in chunks)\n",
    "\n",
    "# Combine the processed chunks into a single DataFrame\n",
    "combined_df = pd.concat(processed_chunks)\n",
    "\n",
    "# Print the combined DataFrame\n",
    "print(combined_df)\n"
   ]
  },
  {
   "cell_type": "code",
   "execution_count": 6,
   "id": "c8ca805b",
   "metadata": {},
   "outputs": [
    {
     "ename": "SyntaxError",
     "evalue": "invalid syntax (2356045555.py, line 5)",
     "output_type": "error",
     "traceback": [
      "\u001b[1;36m  File \u001b[1;32m\"C:\\Users\\Gokul\\AppData\\Local\\Temp\\ipykernel_22428\\2356045555.py\"\u001b[1;36m, line \u001b[1;32m5\u001b[0m\n\u001b[1;33m    def m:\u001b[0m\n\u001b[1;37m         ^\u001b[0m\n\u001b[1;31mSyntaxError\u001b[0m\u001b[1;31m:\u001b[0m invalid syntax\n"
     ]
    }
   ],
   "source": [
    "sss = \"gokul\"\n",
    "\n",
    "global sss\n",
    "\n",
    "def m:\n",
    "    global sss\n",
    "    print sss"
   ]
  },
  {
   "cell_type": "code",
   "execution_count": 7,
   "id": "41cef983",
   "metadata": {},
   "outputs": [
    {
     "name": "stdout",
     "output_type": "stream",
     "text": [
      "Python is awesome\n"
     ]
    }
   ],
   "source": [
    "x = \"awesome\"\n",
    "\n",
    "def myfunc():\n",
    "  print(\"Python is \" + x)\n",
    "\n",
    "myfunc()"
   ]
  },
  {
   "cell_type": "code",
   "execution_count": 10,
   "id": "264c04ab",
   "metadata": {},
   "outputs": [
    {
     "name": "stdout",
     "output_type": "stream",
     "text": [
      "Python is Awesome\n"
     ]
    }
   ],
   "source": [
    "\n",
    "\n",
    "def mm():\n",
    "    print(\"Python is \" + x)\n",
    "    \n",
    "if __name__ == '__main__':\n",
    "    x = \"Awesome\"\n",
    "    mm()\n",
    "    \n",
    "    "
   ]
  },
  {
   "cell_type": "code",
   "execution_count": null,
   "id": "48fff1f1",
   "metadata": {},
   "outputs": [],
   "source": []
  }
 ],
 "metadata": {
  "kernelspec": {
   "display_name": "Python 3 (ipykernel)",
   "language": "python",
   "name": "python3"
  },
  "language_info": {
   "codemirror_mode": {
    "name": "ipython",
    "version": 3
   },
   "file_extension": ".py",
   "mimetype": "text/x-python",
   "name": "python",
   "nbconvert_exporter": "python",
   "pygments_lexer": "ipython3",
   "version": "3.9.13"
  }
 },
 "nbformat": 4,
 "nbformat_minor": 5
}
